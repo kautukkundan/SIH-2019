{
 "cells": [
  {
   "cell_type": "code",
   "execution_count": 1,
   "metadata": {},
   "outputs": [
    {
     "name": "stderr",
     "output_type": "stream",
     "text": [
      "[nltk_data] Downloading package wordnet to /Users/kautuk/nltk_data...\n",
      "[nltk_data]   Package wordnet is already up-to-date!\n",
      "[nltk_data] Downloading package stopwords to\n",
      "[nltk_data]     /Users/kautuk/nltk_data...\n",
      "[nltk_data]   Package stopwords is already up-to-date!\n"
     ]
    }
   ],
   "source": [
    "# SpaCy\n",
    "import spacy\n",
    "nlp = spacy.load('en_core_web_sm')\n",
    "\n",
    "from spacy.lang.en import English\n",
    "parser = English()\n",
    "\n",
    "# nltk\n",
    "import nltk\n",
    "nltk.download('wordnet')\n",
    "nltk.download('stopwords')\n",
    "\n",
    "from nltk.corpus import wordnet as wn\n",
    "from nltk.stem.wordnet import WordNetLemmatizer\n",
    "\n",
    "# gensim\n",
    "import gensim\n",
    "from gensim import corpora\n",
    "\n",
    "# others\n",
    "import pickle\n",
    "import random"
   ]
  },
  {
   "cell_type": "code",
   "execution_count": 2,
   "metadata": {},
   "outputs": [],
   "source": [
    "en_stop = set(nltk.corpus.stopwords.words('english'))\n",
    "\n",
    "def tokenize(text):\n",
    "    lda_tokens = []\n",
    "    tokens = parser(text)\n",
    "    for token in tokens:\n",
    "        if token.orth_.isspace():\n",
    "            continue\n",
    "        elif token.like_url:\n",
    "            lda_tokens.append('URL')\n",
    "        elif token.orth_.startswith('@'):\n",
    "            lda_tokens.append('SCREEN_NAME')\n",
    "        else:\n",
    "            lda_tokens.append(token.lower_)\n",
    "    doc = nlp(text)\n",
    "    noun_chunks = list(doc.noun_chunks) \n",
    "#     return lda_tokens + 10*[word.text for word in list(doc.noun_chunks) if not len(word.text.split(' '))>3]\n",
    "    return [word.text for word in list(doc.noun_chunks) if not len(word.text.split(' '))>3]\n",
    "\n",
    "def get_lemma(word):\n",
    "    lemma = wn.morphy(word)\n",
    "    if lemma is None:\n",
    "        return word\n",
    "    else:\n",
    "        return lemma\n",
    "    \n",
    "def prepare_text_for_lda(text):\n",
    "    filtered_document = [w.lower() for w in text.split(' ')]\n",
    "    text = ' '.join(filtered_document)\n",
    "    tokens = tokenize(text)\n",
    "    tokens = [token for token in tokens if len(token) > 4]\n",
    "    tokens = [token for token in tokens if token not in en_stop]\n",
    "    tokens = [get_lemma(token) for token in tokens]\n",
    "    return tokens"
   ]
  },
  {
   "cell_type": "code",
   "execution_count": 3,
   "metadata": {},
   "outputs": [],
   "source": [
    "g1 = '''Glaciers are melting, sea levels are rising, cloud forests are dying, and wildlife is scrambling to keep pace. It has become clear that humans have caused most of the past century's warming by releasing heat-trapping gases as we power our modern lives. Called greenhouse gases, their levels are higher now than at any time in the last 800,000 years.\n",
    "We often call the result global warming, but it is causing a set of changes to the Earth's climate, or long-term weather patterns, that varies from place to place. While many people think of global warming and climate change as synonyms, scientists use “climate change” when describing the complex shifts now affecting our planet’s weather and climate systems—in part because some areas actually get cooler in the short term.\n",
    "Climate change encompasses not only rising average temperatures but also extreme weather events, shifting wildlife populations and habitats, rising seas, and a range of other impacts. All of those changes are emerging as humans continue to add heat-trapping greenhouse gases to the atmosphere, changing the rhythms of climate that all living things have come to rely on.\n",
    "What will we do—what can we do—to slow this human-caused warming? How will we cope with the changes we've already set into motion? While we struggle to figure it all out, the fate of the Earth as we know it—coasts, forests, farms, and snow-capped mountains—hangs in the balance.\n",
    "Understanding the greenhouse effect\n",
    "The \"greenhouse effect\" is the warming that happens when certain gases in Earth's atmosphere trap heat. These gases let in light but keep heat from escaping, like the glass walls of a greenhouse, hence the name.\n",
    "Sunlight shines onto the Earth's surface, where the energy is absorbed and then radiate back into the atmosphere as heat. In the atmosphere, greenhouse gas molecules trap some of the heat, and the rest escapes into space. The more greenhouse gases concentrate in the atmosphere, the more heat gets locked up in the molecules.\n",
    "Scientists have known about the greenhouse effect since 1824, when Joseph Fourier calculated that the Earth would be much colder if it had no atmosphere. This natural greenhouse effect is what keeps the Earth's climate livable. Without it, the Earth's surface would be an average of about 60 degrees Fahrenheit (33 degrees Celsius) cooler.\n",
    "Aren't temperature changes natural?\n",
    "Human activity isn't the only factor that affects Earth's climate. Volcanic eruptions and variations in solar radiation from sunspots, solar wind, and the Earth's position relative to the sun also play a role. So do large-scale weather patterns such as El Niño.\n",
    "But climate models that scientists use to monitor Earth’s temperatures take those factors into account. Changes in solar radiation levels as well as minute particles suspended in the\n",
    "\n",
    " atmosphere from volcanic eruptions, for example, have contributed only about two percent to the recent warming effect. The balance comes from greenhouse gases and other human-caused factors, such as land use change.\n",
    "The short timescale of this recent warming is singular as well. Volcanic eruptions, for example, emit particles that temporarily cool the Earth's surface. But their effect lasts just a few years. Events like El Niño also work on fairly short and predictable cycles. On the other hand, the types of global temperature fluctuations that have contributed to ice ages occur on a cycle of hundreds of thousands of years.\n",
    "For thousands of years now, emissions of greenhouse gases to the atmosphere have been balanced out by greenhouse gases that are naturally absorbed. As a result, greenhouse gas concentrations and temperatures have been fairly stable, which has allowed human civilization to flourish within a consistent climate.\n",
    "Now, humans have increased the amount of carbon dioxide in the atmosphere by more than a third since the Industrial Revolution. Changes that have historically taken thousands of years are now happening over the course of decades.\n",
    "Why does this matter?\n",
    "The rapid rise in greenhouse gases is a problem because it’s changing the climate faster than some living things can adapt to. Also, a new and more unpredictable climate poses unique challenges to all life.\n",
    "Historically, Earth's climate has regularly shifted between temperatures like those we see today and temperatures cold enough to cover much of North America and Europe with ice. The difference between average global temperatures today and during those ice ages is only about 9 degrees Fahrenheit (5 degrees Celsius), and the swings have tended to happen slowly, over hundreds of thousands of years.\n",
    "But with concentrations of greenhouse gases rising, Earth's remaining ice sheets such as Greenland and Antarctica are starting to melt too. That extra water could raise sea levels significantly, and quickly. By 2050, sea levels are predicted to rise between one and 2.3 feet as glaciers melt.\n",
    "As the mercury rises, the climate can change in unexpected ways. In addition to sea levels rising, weather can become more extreme. This means more intense major storms, more rain followed by longer and drier droughts—a challenge for growing crops—changes in the ranges in which plants and animals can live, and loss of water supplies that have historically come from glaciers.\n",
    "'''"
   ]
  },
  {
   "cell_type": "code",
   "execution_count": 4,
   "metadata": {},
   "outputs": [],
   "source": [
    "g2='''\n",
    " What is global warming? Over the past 50 years, the average global temperature has increased at the fastest rate in recorded history. And experts see the trend is accelerating: All but one of the 16 hottest years in NASA’s 134-year record have occurred since 2000. Climate change deniers have argued that there has been a “pause” or a “slowdown” in rising global temperatures, but several recent studies, including a 2015 paper published in the journal Science, have disproved this claim. And scientists say that unless we curb global-warming emissions, average U.S. temperatures could increase by up to 10 degrees Fahrenheit over the next century.\n",
    "What causes global warming? Global warming occurs when carbon dioxide (CO2) and other air pollutants and greenhouse gases collect in the atmosphere and absorb sunlight and solar radiation that have bounced off the earth’s surface. Normally, this radiation would escape into space—but these pollutants, which can last for years to centuries in the atmosphere, trap the heat and cause the planet to get hotter. That's what's known as the greenhouse effect. In the United States, the burning of fossil fuels to make electricity is the largest source of heat-trapping pollution, producing about two billion tons of CO2 every year. Coal-burning power plants are by far the biggest polluters. The country’s second-largest source of carbon pollution is the transportation sector, which generates about 1.7 billion tons of CO2 emissions a year. Curbing dangerous climate change requires very deep cuts in emissions, as well as the use of alternatives to fossil fuels worldwide. The good news is that we’ve started a turnaround: CO2 emissions in the United States actually decreased from 2005 to 2014, thanks in part to new, energy-efficient technology and the use of cleaner fuels. And scientists continue to develop new ways to modernize power plants, generate cleaner electricity, and burn less gasoline while we drive. The challenge is to be sure these solutions are put to use and widely adopted.\n",
    "How is global warming linked to extreme weather? Scientists agree that the earth’s rising temperatures are fueling longer and hotter heat waves, more frequent droughts, heavier rainfall, and more powerful hurricanes. In 2015, for example, scientists said that an ongoing drought in California—the state’s worst water shortage in 1,200 years—had been intensified by 15 percent to 20 percent by global warming. They also said the odds of similar droughts happening in the future had roughly doubled over the past century. And in 2016, the National Academies of Science, Engineering, and Medicine announced that it’s now possible to confidently attribute certain weather events, like some heat waves, directly to climate change. The earth’s ocean temperatures are getting warmer, too—which means that tropical storms can pick up more energy. So global warming could turn, say, a category 3 storm into a more dangerous category 4 storm. In fact, scientists have found that the frequency of North Atlantic hurricanes has increased since the early 1980s, as well as the number of storms that reach categories 4 and 5. In 2005, Hurricane Katrina—the costliest hurricane in U.S. history—struck New Orleans; the second-costliest, Hurricane Sandy, hit the East Coast in 2012. The impacts of global warming are being felt across the globe. Extreme heat waves have caused tens of thousands of deaths around the world in recent years. And in an alarming sign of events to come, Antarctica has been losing about 134 billion metric tons of ice per year since 2002. This rate could speed up if we keep burning fossil fuels at our current pace, some experts say, causing sea levels to rise several meters over the next 50 to 150 years.\n",
    "\n",
    " What are the other effects of global warming? Each year, scientists learn more about the consequences of global warming, and many agree that environmental, economic, and health consequences are likely to occur if current trends continue. Here’s just a smattering of what we can look forward to: Melting glaciers, early snowmelt, and severe droughts will cause more dramatic water shortages and increase the risk of wildfires in the American West. Rising sea levels will lead to coastal flooding on the Eastern Seaboard, especially in Florida, and in other areas such as the Gulf of Mexico. Forests, farms, and cities will face troublesome new pests, heat waves, heavy downpours, and increased flooding. All those factors will damage or destroy agriculture and fisheries. Disruption of habitats such as coral reefs and Alpine meadows could drive many plant and animal species to extinction. Allergies, asthma, and infectious disease outbreaks will become more common due to increased growth of pollen-producing ragweed, higher levels of air pollution, and the spread of conditions favourable to pathogens and mosquitoes.\n",
    "Where does the United States stand in terms of global-warming contributors? In recent years, China has taken the lead in global-warming pollution, producing about 28 percent of all CO2 emissions. The United States comes in second. Despite making up just 4 percent of the world’s population, we produce a whopping 16 percent of all global CO2 emissions—as much as the European Union and India combined. And America is still number one, by far, in cumulative emissions over the past 150 years. Our responsibility matters to other countries, and it should matter to us, too.\n",
    "Is the United States doing anything to prevent global warming? The United States have started working. But in order to avoid the worst effects of climate change, we need to do a lot more—together with other countries—to reduce our dependence on fossil fuels and start using clean energy instead. In 2015, the U.S. Environmental Protection Agency pledged to reduce carbon pollution from our power plants by nearly a third by 2030, relative to 2005 levels, through its Clean Power Plan. But fast-forward to 2017, and under the Trump Administration, the EPA proposed repealing this critical tool for curbing climate change. Likewise, while under the Obama administration, the U.S. Department of Transportation proposed carbon pollution and fuel economy standards intended to cut emissions through the 2020s, under Trump administration, the DOT is working to roll back those clean vehicle safeguards that protect the climate and our health. Fortunately, state leaders—including in car country itself—recognize that clean transportation must remain a priority if we are to address the costly risks of climate change and protect public health. And regional efforts around the country are helping to boost the electric car market, which saw an increase in sales for 2017 over 2016. Our clean energy economy is growing too, despite federal efforts to derail it. In 2016, wind employment grew by 32 percent and solar jobs increased by 25 percent. Globally, at the United Nations Conference on Climate Change in Paris, 195 countries—including the United States, at the time—agreed to pollution-cutting provisions with a goal of preventing the average global temperature from rising more than 1.5 degrees Celsius above preindustrial times. (Scientists say we must stay below a two-degree increase to avoid catastrophic climate impacts.) To help make the deal happen, the Obama administration pledged $3 billion to the Green Climate Fund, an international organization dedicated to helping poor countries adopt cleaner energy technologies. Under the terms of\n",
    "\n",
    " the Paris agreement, participating nations will meet every five years, starting in 2020, to revise their plans for cutting CO2 emissions. Beginning in 2023, they will also have to publicly report their progress.While in 2017, President Trump announced the country’s withdrawal from the Paris climate agreement and to eliminate “harmful and unnecessary policies such as the Climate Action Plan,” Americans are forging ahead without him.\n",
    "Through initiatives like the United States Climate Alliance, the Regional Greenhouse Gas Initiative, We Are Still In, and Climate Mayors, state, business, and local leaders have pledged to honor and uphold the goals of the Paris Agreement. More than 25 cities in 17 states, with populations totaling more than 5 million have adopted resolutions that will enable them to get 100 percent of their electricity from renewable sources like wind and solar. Even better, a new initiative by former New York City mayor Michael Bloomberg gives the urban layer of this movement a boost. He’s asked mayors from the 100 most populous cities in the country to share their plans for making their buildings and transportation systems run cleaner and more efficiently. The 20 that show the greatest potential for cutting the dangerous carbon pollution that’s driving climate change will share a total of $70 million in technical assistance funding provided by Bloomberg Philanthropies and partners.\n",
    "Is global warming too big of a problem for me to help tackle? Wondering how to stop global warming? Reduce your own carbon footprint by following a few easy steps. Make conserving energy a part of your daily routine and your decisions as a consumer. When you shop for new appliances like refrigerators, washers, and dryers, look for products with the government’s Energy Star label; they meet a higher standard for energy efficiency than the minimum federal requirements. When you buy a car, look for one with the highest gas mileage and lowest emissions. You can also reduce your emissions by taking public transportation or carpooling when possible. And while new federal and state standards are a step in the right direction, much more needs to be done. Voice your support of climate-friendly and climate change preparedness policies, and tell your representatives that transitioning from dirty fossil fuels to clean power should be a top priority—because it’s vital to building healthy, more secure communities.\n",
    "'''"
   ]
  },
  {
   "cell_type": "code",
   "execution_count": 5,
   "metadata": {},
   "outputs": [],
   "source": [
    "p1 = '''elhi Assembly election campaign is in its last lap. Nearly 1.5 crore voters will vote on February 8 (the coming Saturday) in all 70 assembly constituencies to elect their next government in Delhi.\n",
    "\n",
    "All three main parties the ruling Aam Aadmi Party (AAP) and challengers the BJP and the Congress have released their manifestos for the Delhi Assembly election. The AAP of Chief Minister Arvind Kejriwal is in the fray with once more slogan.\n",
    "\n",
    "The BJP is pitching its corruption-free, development oriented election plank in the Delhi Assembly polls. And, the Congress’s catchphrase in the Delhi election is, We want Congress waali Dilli.\n",
    "\n",
    "Let us have a look at what all three parties have offered as election promise to the people of Delhi. First, the ruling AAP of Kejriwal.\n",
    "\n",
    "BIJLI-PAANI\n",
    "\n",
    "In mid-January, Arvind Kejriwal released a 10-point poll pledge on his personal guarantee saying if elected, the next AAP government will deliver on these promises. Kejriwal promised to provide uninterrupted power and piped water supply to all households.\n",
    "\n",
    "In his election campaigns, Kejriwal is already claiming that his government has ensured 24x7 power supply in Delhi in the past five years. Connecting every house with clean piped water is his promise for the next five years.\n",
    "\n",
    "Like the AAP, the BJP has also promised water supply in every home of Delhi.\n",
    "\n",
    "Against the AAP's free power-free water campaign, the Congress too promises free electricity up to 300 units each household. The Kejriwal government has kept it free up to 200 units.\n",
    "\n",
    "UNAUTHORISED COLONIES\n",
    "\n",
    "The AAP promises to provide basic facilities for unauthorised colonies, affordable and quality healthcare and efficient garbage disposal for better cleanliness in Delhi.\n",
    "\n",
    "ADVERTISEMENT\n",
    "\n",
    "In the run up to Delhi election, the BJP-led central government decided to regularise 1,797 unauthorised colonies in Delhi. The BJP in its manifesto has said a colony development board will be set up for development of these colonies to benefit more than 50 lakh people.\n",
    "\n",
    "The Congress has promised to regularise rest of the unauthorised colonies in Delhi and launch a project worth Rs 35,000 crore for their uplift.\n",
    "\n",
    "YOUTH AND WOMEN\n",
    "\n",
    "Good education for students until graduation is a promise that appears as extension of Kejriwal government’s school education programme.\n",
    "\n",
    "The BJP promises to build 10 new colleges and 200 new schools in Delhi besides one library each in 280 wards of Delhi.\n",
    "\n",
    "Kejriwal has promised to deploy Mohalla Marshals for improved security for women. A similar promise of deployment of marshals in public buses was made by the AAP in 2015 but it remained largely unfulfilled. This promise was made in the backdrop of the Nirbhaya gangrape incident in which six people had brutalised a paramedic student who later died.\n",
    "\n",
    "\n",
    "All three parties have tried to woo Delhi's young voters in their poll promises.\n",
    "The BJP, which has not projected its chief ministerial candidate in Delhi election, has promised to provide 10 lakh jobs in Delhi over the next five years. This is supposed to be in addition to the vacant posts that the BJP has promised to fill all vacant posts in Delhi.\n",
    "\n",
    "It has promised to distribute electric scooters among college going girls, and bicycles for girls in Class 9th. This is on the lines of populist policies implemented in states like Bihar where the government distributed among school going girls. The BJP is part of the Nitish Kumar government in Bihar and contesting the Delhi election in alliance with his Janata Dal (United).\n",
    "\n",
    "The BJP has promised to give financial assistance of Rs 51,000 for marriage of girls of economically weaker sections. The party has also promised to give wheat flour at Rs 2 per kg to BPL families. A similar scheme in Chhattisgarh sustained the BJP government in power for 15 years.\n",
    "\n",
    "Inspired by Congress’s Lok Sabha poll plank Nyay (Nyuntam Aay Yojana), the party has promised to launch a Yuvaa Swabhiman Yojana in Delhi offering monthly unemployment allowance of Rs 5,000 to graduates and Rs 7,500 to postgraduates.\n",
    "\n",
    "\n",
    "Delhi Election Commission is running a voters' awareness campaign for greater participation in Delhi Assembly election on February 8. (Photo: Twitter/@CeodelhiOffice)\n",
    "COMMUTING IN DELHI\n",
    "\n",
    "Kejriwal’s guarantee card talks about biggest and cheapest public transport in Delhi in a fleet of 11,000 buses and 500 km Delhi Metro network. This is significant in the view that he has faced flak for not expanding the Delhi bus fleet which Kejriwal blamed on a court case.\n",
    "\n",
    "The BJP has promised to invest massively in improving road network with projects worth Rs 55,000 crore in Delhi. Another Rs 10,000 crore will be spent, the BJP says, for infrastructure development in Delhi.\n",
    "\n",
    "ADVERTISEMENT\n",
    "\n",
    "The Congress has promised to immediately procure 15,000 electric buses to increase the fleet size of Delhi Transport Corporation (DTC).\n",
    "\n",
    "Kejriwal has promised free travel on public transport to students in Delhi. This is currently available to women currently. The Congress has also promised subsidised metro travel for women, students and elderly people.\n",
    "\n",
    "AIR POLLUTION. polls.\n",
    "\n",
    "With air pollution being the biggest worry of Delhi residents, Kejriwaal has promised to bring air pollution by one-third of the existing level by planting 2 crore trees and cleaning Yamuna river.\n",
    "\n",
    "On pollution, Delhi BJP chief Manoj Tiwari said if elected to power, the BJP will solve air pollution problem in two years.\n",
    "\n",
    "On the other hand, the Congress has promised to spend 25 per cent of Delhi’s annual budget to combat the air pollution problem and improve transportation.\n",
    "\n",
    "\n",
    "An over 100-year old Delhi voter at polling booth during Lok Sabha election 2019. The Election Commission made arrangements for pickup and drop for this voter identified as Kitabunnisa by the poll body in a Twitter post.\n",
    "OTHER ISSUES IN POLL PROMISES\n",
    "\n",
    "The BJP has promised to stop sealing in Delhi. Sealing is carried in Delhi in accordance with court orders in cases where public properties were encroached upon by residents and business entities.\n",
    "\n",
    "Among other promises, the BJP said it will implement Ayushman Bharat Scheme, housing for all scheme and PM Kisan scheme in Delhi. Aushman Bharat has been a sticking point between the Kejriwal government and the Modi government. Kejriwal says the Delhi government’s health scheme is all-inclusive while Ayushman Bharat is selective in nature.\n",
    "\n",
    "Interestingly, the Congress has promised passing a resolution against the Citizenship Amendment Act in its first assembly session if the party is voted to power. The Congress’s state governments in Rajasthan and Punjab have passed similar resolutions.\n",
    "\n",
    "A POLL OF HOPES FOR CHALLENGERS\n",
    "\n",
    "The BJP has remained the principal challenger in every Delhi Assembly election since 1998. The AAP suddenly appeared on the Delhi election scene in 2013 forming a minority government and stormed to power in 2015 but the standing of the BJP did not change as the principal challenger in Delhi politics. Earlier, it was competing with the Congress for power, now Kejriwal’s AAP has taken that place.\n",
    "\n",
    "In its election manifesto, which the BJP presents as vision document, the party promises to provide a corruption-free and transparent government with a focus on development in Delhi if the party is elected to power.\n",
    "\n",
    "The Congress too is in race in Delhi election. It is hardselling the achievements of three successive Sheila Dikshit governments in Delhi from 1998 to 2013 with its theme song Congress waali Dilli while Kejriwal sounds confident that there is strong pro-incumbency in Delhi. We will find out who stands where in Delhi election on February 11, the day of counting of votes and results.'''"
   ]
  },
  {
   "cell_type": "code",
   "execution_count": 6,
   "metadata": {
    "scrolled": false
   },
   "outputs": [],
   "source": [
    "text_data = []\n",
    "\n",
    "for line in (g1,g2,p1):\n",
    "    tokens = prepare_text_for_lda(line)\n",
    "    text_data.append(tokens)"
   ]
  },
  {
   "cell_type": "code",
   "execution_count": 7,
   "metadata": {},
   "outputs": [],
   "source": [
    "dictionary = corpora.Dictionary(text_data)\n",
    "corpus = [dictionary.doc2bow(text) for text in text_data]\n",
    "pickle.dump(corpus, open('corpus.pkl', 'wb'))\n",
    "dictionary.save('dictionary.gensim')"
   ]
  },
  {
   "cell_type": "code",
   "execution_count": 51,
   "metadata": {},
   "outputs": [],
   "source": [
    "NUM_TOPICS = 50\n",
    "ldamodel = gensim.models.ldamodel.LdaModel(corpus, num_topics = NUM_TOPICS, id2word=dictionary, passes=50)\n",
    "ldamodel.save('model5.gensim')"
   ]
  },
  {
   "cell_type": "code",
   "execution_count": 52,
   "metadata": {
    "scrolled": false
   },
   "outputs": [],
   "source": [
    "import re\n",
    "topics = ldamodel.print_topics(num_words=1)\n",
    "# for topic in topics:\n",
    "#     print(topic)\n",
    "#     print('')\n",
    "#     print(re.findall(r'\"(.*?)\"', topic[1]))\n",
    "#     print('\\n')"
   ]
  },
  {
   "cell_type": "code",
   "execution_count": 53,
   "metadata": {},
   "outputs": [
    {
     "data": {
      "text/plain": [
       "20"
      ]
     },
     "execution_count": 53,
     "metadata": {},
     "output_type": "execute_result"
    }
   ],
   "source": [
    "len(topics)"
   ]
  },
  {
   "cell_type": "code",
   "execution_count": 54,
   "metadata": {},
   "outputs": [
    {
     "name": "stderr",
     "output_type": "stream",
     "text": [
      "/usr/local/lib/python3.7/site-packages/pyLDAvis/_prepare.py:257: FutureWarning: Sorting because non-concatenation axis is not aligned. A future version\n",
      "of pandas will change to not sort by default.\n",
      "\n",
      "To accept the future behavior, pass 'sort=False'.\n",
      "\n",
      "To retain the current behavior and silence the warning, pass 'sort=True'.\n",
      "\n",
      "  return pd.concat([default_term_info] + list(topic_dfs))\n"
     ]
    },
    {
     "ename": "TypeError",
     "evalue": "Object of type complex is not JSON serializable",
     "output_type": "error",
     "traceback": [
      "\u001b[0;31m---------------------------------------------------------------------------\u001b[0m",
      "\u001b[0;31mTypeError\u001b[0m                                 Traceback (most recent call last)",
      "\u001b[0;32m<ipython-input-54-47f00c7506cf>\u001b[0m in \u001b[0;36m<module>\u001b[0;34m\u001b[0m\n\u001b[1;32m      3\u001b[0m \u001b[0;32mimport\u001b[0m \u001b[0mpyLDAvis\u001b[0m\u001b[0;34m.\u001b[0m\u001b[0mgensim\u001b[0m\u001b[0;34m\u001b[0m\u001b[0;34m\u001b[0m\u001b[0m\n\u001b[1;32m      4\u001b[0m \u001b[0mlda_display\u001b[0m \u001b[0;34m=\u001b[0m \u001b[0mpyLDAvis\u001b[0m\u001b[0;34m.\u001b[0m\u001b[0mgensim\u001b[0m\u001b[0;34m.\u001b[0m\u001b[0mprepare\u001b[0m\u001b[0;34m(\u001b[0m\u001b[0mlda\u001b[0m\u001b[0;34m,\u001b[0m \u001b[0mcorpus\u001b[0m\u001b[0;34m,\u001b[0m \u001b[0mdictionary\u001b[0m\u001b[0;34m,\u001b[0m \u001b[0msort_topics\u001b[0m\u001b[0;34m=\u001b[0m\u001b[0;32mFalse\u001b[0m\u001b[0;34m)\u001b[0m\u001b[0;34m\u001b[0m\u001b[0;34m\u001b[0m\u001b[0m\n\u001b[0;32m----> 5\u001b[0;31m \u001b[0mpyLDAvis\u001b[0m\u001b[0;34m.\u001b[0m\u001b[0mdisplay\u001b[0m\u001b[0;34m(\u001b[0m\u001b[0mlda_display\u001b[0m\u001b[0;34m)\u001b[0m\u001b[0;34m\u001b[0m\u001b[0;34m\u001b[0m\u001b[0m\n\u001b[0m",
      "\u001b[0;32m/usr/local/lib/python3.7/site-packages/pyLDAvis/_display.py\u001b[0m in \u001b[0;36mdisplay\u001b[0;34m(data, local, **kwargs)\u001b[0m\n\u001b[1;32m    220\u001b[0m         \u001b[0mkwargs\u001b[0m\u001b[0;34m[\u001b[0m\u001b[0;34m'd3_url'\u001b[0m\u001b[0;34m]\u001b[0m\u001b[0;34m,\u001b[0m \u001b[0mkwargs\u001b[0m\u001b[0;34m[\u001b[0m\u001b[0;34m'ldavis_url'\u001b[0m\u001b[0;34m]\u001b[0m\u001b[0;34m,\u001b[0m \u001b[0mkwargs\u001b[0m\u001b[0;34m[\u001b[0m\u001b[0;34m'ldavis_css_url'\u001b[0m\u001b[0;34m]\u001b[0m \u001b[0;34m=\u001b[0m \u001b[0mwrite_ipynb_local_js\u001b[0m\u001b[0;34m(\u001b[0m\u001b[0;34m)\u001b[0m\u001b[0;34m\u001b[0m\u001b[0;34m\u001b[0m\u001b[0m\n\u001b[1;32m    221\u001b[0m \u001b[0;34m\u001b[0m\u001b[0m\n\u001b[0;32m--> 222\u001b[0;31m     \u001b[0;32mreturn\u001b[0m \u001b[0mHTML\u001b[0m\u001b[0;34m(\u001b[0m\u001b[0mprepared_data_to_html\u001b[0m\u001b[0;34m(\u001b[0m\u001b[0mdata\u001b[0m\u001b[0;34m,\u001b[0m \u001b[0;34m**\u001b[0m\u001b[0mkwargs\u001b[0m\u001b[0;34m)\u001b[0m\u001b[0;34m)\u001b[0m\u001b[0;34m\u001b[0m\u001b[0;34m\u001b[0m\u001b[0m\n\u001b[0m\u001b[1;32m    223\u001b[0m \u001b[0;34m\u001b[0m\u001b[0m\n\u001b[1;32m    224\u001b[0m def show(data, ip='127.0.0.1', port=8888, n_retries=50,\n",
      "\u001b[0;32m/usr/local/lib/python3.7/site-packages/pyLDAvis/_display.py\u001b[0m in \u001b[0;36mprepared_data_to_html\u001b[0;34m(data, d3_url, ldavis_url, ldavis_css_url, template_type, visid, use_http)\u001b[0m\n\u001b[1;32m    176\u001b[0m                            \u001b[0md3_url\u001b[0m\u001b[0;34m=\u001b[0m\u001b[0md3_url\u001b[0m\u001b[0;34m,\u001b[0m\u001b[0;34m\u001b[0m\u001b[0;34m\u001b[0m\u001b[0m\n\u001b[1;32m    177\u001b[0m                            \u001b[0mldavis_url\u001b[0m\u001b[0;34m=\u001b[0m\u001b[0mldavis_url\u001b[0m\u001b[0;34m,\u001b[0m\u001b[0;34m\u001b[0m\u001b[0;34m\u001b[0m\u001b[0m\n\u001b[0;32m--> 178\u001b[0;31m                            \u001b[0mvis_json\u001b[0m\u001b[0;34m=\u001b[0m\u001b[0mdata\u001b[0m\u001b[0;34m.\u001b[0m\u001b[0mto_json\u001b[0m\u001b[0;34m(\u001b[0m\u001b[0;34m)\u001b[0m\u001b[0;34m,\u001b[0m\u001b[0;34m\u001b[0m\u001b[0;34m\u001b[0m\u001b[0m\n\u001b[0m\u001b[1;32m    179\u001b[0m                            ldavis_css_url=ldavis_css_url)\n\u001b[1;32m    180\u001b[0m \u001b[0;34m\u001b[0m\u001b[0m\n",
      "\u001b[0;32m/usr/local/lib/python3.7/site-packages/pyLDAvis/_prepare.py\u001b[0m in \u001b[0;36mto_json\u001b[0;34m(self)\u001b[0m\n\u001b[1;32m    415\u001b[0m \u001b[0;34m\u001b[0m\u001b[0m\n\u001b[1;32m    416\u001b[0m     \u001b[0;32mdef\u001b[0m \u001b[0mto_json\u001b[0m\u001b[0;34m(\u001b[0m\u001b[0mself\u001b[0m\u001b[0;34m)\u001b[0m\u001b[0;34m:\u001b[0m\u001b[0;34m\u001b[0m\u001b[0;34m\u001b[0m\u001b[0m\n\u001b[0;32m--> 417\u001b[0;31m        \u001b[0;32mreturn\u001b[0m \u001b[0mjson\u001b[0m\u001b[0;34m.\u001b[0m\u001b[0mdumps\u001b[0m\u001b[0;34m(\u001b[0m\u001b[0mself\u001b[0m\u001b[0;34m.\u001b[0m\u001b[0mto_dict\u001b[0m\u001b[0;34m(\u001b[0m\u001b[0;34m)\u001b[0m\u001b[0;34m,\u001b[0m \u001b[0mcls\u001b[0m\u001b[0;34m=\u001b[0m\u001b[0mNumPyEncoder\u001b[0m\u001b[0;34m)\u001b[0m\u001b[0;34m\u001b[0m\u001b[0;34m\u001b[0m\u001b[0m\n\u001b[0m",
      "\u001b[0;32m/usr/local/Cellar/python/3.7.5/Frameworks/Python.framework/Versions/3.7/lib/python3.7/json/__init__.py\u001b[0m in \u001b[0;36mdumps\u001b[0;34m(obj, skipkeys, ensure_ascii, check_circular, allow_nan, cls, indent, separators, default, sort_keys, **kw)\u001b[0m\n\u001b[1;32m    236\u001b[0m         \u001b[0mcheck_circular\u001b[0m\u001b[0;34m=\u001b[0m\u001b[0mcheck_circular\u001b[0m\u001b[0;34m,\u001b[0m \u001b[0mallow_nan\u001b[0m\u001b[0;34m=\u001b[0m\u001b[0mallow_nan\u001b[0m\u001b[0;34m,\u001b[0m \u001b[0mindent\u001b[0m\u001b[0;34m=\u001b[0m\u001b[0mindent\u001b[0m\u001b[0;34m,\u001b[0m\u001b[0;34m\u001b[0m\u001b[0;34m\u001b[0m\u001b[0m\n\u001b[1;32m    237\u001b[0m         \u001b[0mseparators\u001b[0m\u001b[0;34m=\u001b[0m\u001b[0mseparators\u001b[0m\u001b[0;34m,\u001b[0m \u001b[0mdefault\u001b[0m\u001b[0;34m=\u001b[0m\u001b[0mdefault\u001b[0m\u001b[0;34m,\u001b[0m \u001b[0msort_keys\u001b[0m\u001b[0;34m=\u001b[0m\u001b[0msort_keys\u001b[0m\u001b[0;34m,\u001b[0m\u001b[0;34m\u001b[0m\u001b[0;34m\u001b[0m\u001b[0m\n\u001b[0;32m--> 238\u001b[0;31m         **kw).encode(obj)\n\u001b[0m\u001b[1;32m    239\u001b[0m \u001b[0;34m\u001b[0m\u001b[0m\n\u001b[1;32m    240\u001b[0m \u001b[0;34m\u001b[0m\u001b[0m\n",
      "\u001b[0;32m/usr/local/Cellar/python/3.7.5/Frameworks/Python.framework/Versions/3.7/lib/python3.7/json/encoder.py\u001b[0m in \u001b[0;36mencode\u001b[0;34m(self, o)\u001b[0m\n\u001b[1;32m    197\u001b[0m         \u001b[0;31m# exceptions aren't as detailed.  The list call should be roughly\u001b[0m\u001b[0;34m\u001b[0m\u001b[0;34m\u001b[0m\u001b[0;34m\u001b[0m\u001b[0m\n\u001b[1;32m    198\u001b[0m         \u001b[0;31m# equivalent to the PySequence_Fast that ''.join() would do.\u001b[0m\u001b[0;34m\u001b[0m\u001b[0;34m\u001b[0m\u001b[0;34m\u001b[0m\u001b[0m\n\u001b[0;32m--> 199\u001b[0;31m         \u001b[0mchunks\u001b[0m \u001b[0;34m=\u001b[0m \u001b[0mself\u001b[0m\u001b[0;34m.\u001b[0m\u001b[0miterencode\u001b[0m\u001b[0;34m(\u001b[0m\u001b[0mo\u001b[0m\u001b[0;34m,\u001b[0m \u001b[0m_one_shot\u001b[0m\u001b[0;34m=\u001b[0m\u001b[0;32mTrue\u001b[0m\u001b[0;34m)\u001b[0m\u001b[0;34m\u001b[0m\u001b[0;34m\u001b[0m\u001b[0m\n\u001b[0m\u001b[1;32m    200\u001b[0m         \u001b[0;32mif\u001b[0m \u001b[0;32mnot\u001b[0m \u001b[0misinstance\u001b[0m\u001b[0;34m(\u001b[0m\u001b[0mchunks\u001b[0m\u001b[0;34m,\u001b[0m \u001b[0;34m(\u001b[0m\u001b[0mlist\u001b[0m\u001b[0;34m,\u001b[0m \u001b[0mtuple\u001b[0m\u001b[0;34m)\u001b[0m\u001b[0;34m)\u001b[0m\u001b[0;34m:\u001b[0m\u001b[0;34m\u001b[0m\u001b[0;34m\u001b[0m\u001b[0m\n\u001b[1;32m    201\u001b[0m             \u001b[0mchunks\u001b[0m \u001b[0;34m=\u001b[0m \u001b[0mlist\u001b[0m\u001b[0;34m(\u001b[0m\u001b[0mchunks\u001b[0m\u001b[0;34m)\u001b[0m\u001b[0;34m\u001b[0m\u001b[0;34m\u001b[0m\u001b[0m\n",
      "\u001b[0;32m/usr/local/Cellar/python/3.7.5/Frameworks/Python.framework/Versions/3.7/lib/python3.7/json/encoder.py\u001b[0m in \u001b[0;36miterencode\u001b[0;34m(self, o, _one_shot)\u001b[0m\n\u001b[1;32m    255\u001b[0m                 \u001b[0mself\u001b[0m\u001b[0;34m.\u001b[0m\u001b[0mkey_separator\u001b[0m\u001b[0;34m,\u001b[0m \u001b[0mself\u001b[0m\u001b[0;34m.\u001b[0m\u001b[0mitem_separator\u001b[0m\u001b[0;34m,\u001b[0m \u001b[0mself\u001b[0m\u001b[0;34m.\u001b[0m\u001b[0msort_keys\u001b[0m\u001b[0;34m,\u001b[0m\u001b[0;34m\u001b[0m\u001b[0;34m\u001b[0m\u001b[0m\n\u001b[1;32m    256\u001b[0m                 self.skipkeys, _one_shot)\n\u001b[0;32m--> 257\u001b[0;31m         \u001b[0;32mreturn\u001b[0m \u001b[0m_iterencode\u001b[0m\u001b[0;34m(\u001b[0m\u001b[0mo\u001b[0m\u001b[0;34m,\u001b[0m \u001b[0;36m0\u001b[0m\u001b[0;34m)\u001b[0m\u001b[0;34m\u001b[0m\u001b[0;34m\u001b[0m\u001b[0m\n\u001b[0m\u001b[1;32m    258\u001b[0m \u001b[0;34m\u001b[0m\u001b[0m\n\u001b[1;32m    259\u001b[0m def _make_iterencode(markers, _default, _encoder, _indent, _floatstr,\n",
      "\u001b[0;32m/usr/local/lib/python3.7/site-packages/pyLDAvis/utils.py\u001b[0m in \u001b[0;36mdefault\u001b[0;34m(self, obj)\u001b[0m\n\u001b[1;32m    144\u001b[0m         \u001b[0;32mif\u001b[0m \u001b[0misinstance\u001b[0m\u001b[0;34m(\u001b[0m\u001b[0mobj\u001b[0m\u001b[0;34m,\u001b[0m \u001b[0mnp\u001b[0m\u001b[0;34m.\u001b[0m\u001b[0mfloat64\u001b[0m\u001b[0;34m)\u001b[0m \u001b[0;32mor\u001b[0m \u001b[0misinstance\u001b[0m\u001b[0;34m(\u001b[0m\u001b[0mobj\u001b[0m\u001b[0;34m,\u001b[0m \u001b[0mnp\u001b[0m\u001b[0;34m.\u001b[0m\u001b[0mfloat32\u001b[0m\u001b[0;34m)\u001b[0m\u001b[0;34m:\u001b[0m\u001b[0;34m\u001b[0m\u001b[0;34m\u001b[0m\u001b[0m\n\u001b[1;32m    145\u001b[0m             \u001b[0;32mreturn\u001b[0m \u001b[0mfloat\u001b[0m\u001b[0;34m(\u001b[0m\u001b[0mobj\u001b[0m\u001b[0;34m)\u001b[0m\u001b[0;34m\u001b[0m\u001b[0;34m\u001b[0m\u001b[0m\n\u001b[0;32m--> 146\u001b[0;31m         \u001b[0;32mreturn\u001b[0m \u001b[0mjson\u001b[0m\u001b[0;34m.\u001b[0m\u001b[0mJSONEncoder\u001b[0m\u001b[0;34m.\u001b[0m\u001b[0mdefault\u001b[0m\u001b[0;34m(\u001b[0m\u001b[0mself\u001b[0m\u001b[0;34m,\u001b[0m \u001b[0mobj\u001b[0m\u001b[0;34m)\u001b[0m\u001b[0;34m\u001b[0m\u001b[0;34m\u001b[0m\u001b[0m\n\u001b[0m",
      "\u001b[0;32m/usr/local/Cellar/python/3.7.5/Frameworks/Python.framework/Versions/3.7/lib/python3.7/json/encoder.py\u001b[0m in \u001b[0;36mdefault\u001b[0;34m(self, o)\u001b[0m\n\u001b[1;32m    177\u001b[0m \u001b[0;34m\u001b[0m\u001b[0m\n\u001b[1;32m    178\u001b[0m         \"\"\"\n\u001b[0;32m--> 179\u001b[0;31m         raise TypeError(f'Object of type {o.__class__.__name__} '\n\u001b[0m\u001b[1;32m    180\u001b[0m                         f'is not JSON serializable')\n\u001b[1;32m    181\u001b[0m \u001b[0;34m\u001b[0m\u001b[0m\n",
      "\u001b[0;31mTypeError\u001b[0m: Object of type complex is not JSON serializable"
     ]
    }
   ],
   "source": [
    "lda = gensim.models.ldamodel.LdaModel.load('model5.gensim')\n",
    "\n",
    "import pyLDAvis.gensim\n",
    "lda_display = pyLDAvis.gensim.prepare(lda, corpus, dictionary, sort_topics=False)\n",
    "pyLDAvis.display(lda_display)"
   ]
  },
  {
   "cell_type": "code",
   "execution_count": 10,
   "metadata": {},
   "outputs": [
    {
     "name": "stdout",
     "output_type": "stream",
     "text": [
      "[(22, 1)]\n",
      "[(0, 0.010000524), (1, 0.010000524), (2, 0.010000524), (3, 0.010000524), (4, 0.010000524), (5, 0.010000524), (6, 0.010000524), (7, 0.010000524), (8, 0.010000524), (9, 0.010000524), (10, 0.010000524), (11, 0.010000524), (12, 0.010000524), (13, 0.010000524), (14, 0.010000524), (15, 0.010000524), (16, 0.010000524), (17, 0.010000524), (18, 0.010000524), (19, 0.010000524), (20, 0.010000524), (21, 0.010000524), (22, 0.010000524), (23, 0.010000524), (24, 0.010000524), (25, 0.010000524), (26, 0.010000524), (27, 0.010000524), (28, 0.010000524), (29, 0.010000524), (30, 0.010000524), (31, 0.010000524), (32, 0.010000524), (33, 0.010000524), (34, 0.010000524), (35, 0.010000524), (36, 0.010000524), (37, 0.010000524), (38, 0.010000524), (39, 0.010000524), (40, 0.010000524), (41, 0.010000524), (42, 0.010000524), (43, 0.010000524), (44, 0.010000524), (45, 0.010000524), (46, 0.5099743), (47, 0.010000524), (48, 0.010000524), (49, 0.010000524)]\n",
      "carbon dioxide 1\n"
     ]
    }
   ],
   "source": [
    "new_doc = '''what is carbon dioxide'''\n",
    "new_doc = prepare_text_for_lda(new_doc)\n",
    "new_doc_bow = dictionary.doc2bow(new_doc)\n",
    "print(new_doc_bow)\n",
    "print(ldamodel.get_document_topics(new_doc_bow))\n",
    "\n",
    "for item in new_doc_bow:\n",
    "    print(dictionary.get(item[0]), item[1])"
   ]
  },
  {
   "cell_type": "code",
   "execution_count": 11,
   "metadata": {},
   "outputs": [],
   "source": [
    "# import pyLDAvis.gensim\n",
    "# dictionary = gensim.corpora.Dictionary.load('dictionary.gensim')\n",
    "# corpus = pickle.load(open('corpus.pkl', 'rb'))\n",
    "# lda = gensim.models.ldamodel.LdaModel.load('model5.gensim')\n",
    "# lda_display = pyLDAvis.gensim.prepare(lda, corpus, dictionary, sort_topics=False)\n",
    "# pyLDAvis.display(lda_display)"
   ]
  },
  {
   "cell_type": "code",
   "execution_count": 12,
   "metadata": {},
   "outputs": [
    {
     "name": "stdout",
     "output_type": "stream",
     "text": [
      "(0, '0.023*\"air pollution\" + 0.019*\"climate change\" + 0.017*\"walke\" + 0.013*\"the air\" + 0.013*\"carbon dioxide\" + 0.010*\"methane\" + 0.010*\"fossil fuels\" + 0.008*\"greenhouse gases\" + 0.008*\"the form\" + 0.008*\"benzene\"')\n",
      "\n",
      "['air pollution', 'climate change', 'walke', 'the air', 'carbon dioxide', 'methane', 'fossil fuels', 'greenhouse gases', 'the form', 'benzene']\n",
      "\n",
      "\n"
     ]
    }
   ],
   "source": [
    "new_doc = '''What Is Air Pollution?\n",
    "Air pollution refers to the release of pollutants into the air that are detrimental to human health and the planet as a whole.\n",
    "\n",
    "The Clean Air Act authorizes the U.S. Environmental Protection Agency (EPA) to protect public health by regulating the emissions of these harmful air pollutants. The NRDC has been a leading authority on this law since it was established in 1970.\n",
    "\n",
    "What Causes Air Pollution?\n",
    "“Most air pollution comes from energy use and production,” says John Walke, director of the Clean Air Project, part of the Climate and Clean Air program at NRDC. “Burning fossil fuels releases gases and chemicals into the air.” And in an especially destructive feedback loop, air pollution not only contributes to climate change but is also exacerbated by it. “Air pollution in the form of carbon dioxide and methane raises the earth’s temperature,” Walke says. “Another type of air pollution is then worsened by that increased heat: Smog forms when the weather is warmer and there’s more ultraviolet radiation.” Climate change also increases the production of allergenic air pollutants including mold (thanks to damp conditions caused by extreme weather and increased flooding) and pollen (due to a longer pollen season and more pollen production).\n",
    "\n",
    "Effects of Air Pollution\n",
    "“While we’ve made progress over the last 40-plus years improving air quality in the U.S. thanks to the Clean Air Act, climate change will make it harder in the future to meet pollution standards, which are designed to protect health,” says Kim Knowlton, senior scientist and deputy director of the NRDC Science Center.\n",
    "\n",
    "Smog and soot\n",
    "These two are the most prevalent types of air pollution. Smog, or “ground-level ozone,” as it is more wonkily called, occurs when emissions from combusting fossil fuels react with sunlight. Soot, or “particulate matter,” is made up of tiny particles of chemicals, soil, smoke, dust, or allergens, in the form of gas or solids, that are carried in the air. The EPA’s “Plain English Guide to the Clean Air Act” states, “In many parts of the United States, pollution has reduced the distance and clarity of what we see by 70 percent.” The sources of smog and soot are similar. “Both come from cars and trucks, factories, power plants, incinerators, engines—anything that combusts fossil fuels such as coal, gas, or natural gas,” Walke says. The tiniest airborne particles in soot—whether they’re in the form of gas or solids—are especially dangerous because they can penetrate the lungs and bloodstream and worsen bronchitis, lead to heart attacks, and even hasten death.\n",
    "\n",
    "Smog can irritate the eyes and throat and also damage the lungs—especially of people who work or exercise outside, children, and senior citizens. It’s even worse for people who have asthma or allergies—these extra pollutants only intensify their symptoms and can trigger asthma attacks.\n",
    "\n",
    "Hazardous air pollutants\n",
    "These are either deadly or have severe health risks even in small amounts. Almost 200 are regulated by law; some of the most common are mercury, lead, dioxins, and benzene. “These are also most often emitted during gas or coal combustion, incinerating, or in the case of benzene, found in gasoline,” Walke says. Benzene, classified as a carcinogen by the EPA, can cause eye, skin, and lung irritation in the short term and blood disorders in the long term. Dioxins, more typically found in food but also present in small amounts in the air, can affect the liver in the short term and harm the immune, nervous, and endocrine systems, as well as reproductive functions. Lead in large amounts can damage children’s brains and kidneys, and even in small amounts it can affect children’s IQ and ability to learn. Mercury affects the central nervous system.\n",
    "\n",
    "Polycyclic aromatic hydrocarbons, or PAHs, are toxic components of traffic exhaust and wildfire smoke. In large amounts, they have been linked to eye and lung irritation, blood and liver issues, and even cancer. In one recent study, the children of mothers who’d had higher PAH exposure during pregnancy had slower brain processing speeds and worse symptoms of ADHD.\n",
    "\n",
    "Greenhouse gases\n",
    "By trapping the earth’s heat in the atmosphere, greenhouse gases lead to warmer temperatures and all the hallmarks of climate change: rising sea levels, more extreme weather, heat-related deaths, and increasing transmission of infectious diseases like Lyme. According to a 2014 EPA study, carbon dioxide was responsible for 81 percent of the country’s total greenhouse gas emissions, and methane made up 11 percent. “Carbon dioxide comes from combusting fossil fuels, and methane comes from natural and industrial sources, including the large amounts that are released during oil and gas drilling,” Walke says. “We emit far larger amounts of carbon dioxide, but methane is significantly more potent, so it’s also very destructive.” Another class of greenhouse gases, hydrofluorocarbons (HFCs), are thousands of times more powerful than carbon dioxide in their ability to trap heat. In October 2016, more than 140 countries reached an agreement to reduce the use of these chemicals—which are used in air conditioners and refrigerators—and find greener alternatives over time. David Doniger, director of NRDC’s Climate and Clean Air program, writes, “NRDC estimates that the agreed HFC phase-down will avoid the equivalent of more than 80 billion tons of CO2 over the next 35 years.”\n",
    "\n",
    "Pollen and mold\n",
    "Mold and allergens from trees, weeds, and grass are also carried in the air, are exacerbated by climate change, and can be hazardous to health. They are not regulated by the government and are less directly connected to human actions, but they can be considered air pollution. “When homes, schools, or businesses get water damage, mold can grow and can produce allergenic airborne pollutants,” Knowlton says. “Mold exposure can precipitate asthma attacks or an allergic response, and some molds can even produce toxins that would be dangerous for anyone to inhale.”\n",
    "\n",
    "Pollen allergies are worsening because of climate change. “Lab and field studies are showing that the more carbon dioxide pollen-producing plants—especially ragweed—are grown in, the bigger they grow and the more pollen they produce,” Knowlton says. “Climate change also extends the pollen production season, and some studies are beginning to suggest that ragweed pollen itself might be becoming a more potent allergen.” That means more people will suffer runny noses, fevers, itchy eyes, and other symptoms.\n",
    "\n",
    "How to Help Reduce Air Pollution\n",
    "“The less gasoline we burn, the better we’re doing to reduce air pollution and harmful effects of climate change,” Walke says. “Make good choices about transportation. When you can, walk, ride a bike, or take public transportation. For driving, choose cars that get better miles per gallon of gas or choose an electric car.” You can also investigate your power provider options—you may be able to request that your electricity be supplied by wind or solar. Buying your food locally cuts down on the fossil fuels burned in trucking or flying food in from across the country. And perhaps most important, “Support leaders who push for clean air and water and responsible steps on climate change,” Walke says.\n",
    "\n",
    "How to Protect Your Health\n",
    "“When you see in the newspaper or hear on the weather report that pollution levels are high, it may be useful to limit the time when children go outside or you go for a jog,” Walke says. Generally, ozone levels tend to be lower in the morning.\n",
    "When you do exercise outside, stay as far as you can from heavily trafficked roads. Then shower and wash your clothes to remove fine particles.\n",
    "If the air quality is bad, stay inside with windows closed.\n",
    "Wear sunscreen. When ultraviolet radiation comes through the weakened ozone layer, it can cause skin damage and skin cancer.'''\n",
    "text_data = []\n",
    "\n",
    "tokens = prepare_text_for_lda(new_doc)\n",
    "text_data.append(tokens)\n",
    "    \n",
    "dictionary = corpora.Dictionary(text_data)\n",
    "corpus = [dictionary.doc2bow(text) for text in text_data]\n",
    "NUM_TOPICS = 1\n",
    "ldamodel = gensim.models.ldamodel.LdaModel(corpus, num_topics = NUM_TOPICS, id2word=dictionary, passes=50)\n",
    "\n",
    "topics = ldamodel.print_topics(num_words=10)\n",
    "for topic in topics:\n",
    "    print(topic)\n",
    "    print('')\n",
    "    print(re.findall(r'\"(.*?)\"', topic[1]))\n",
    "    print('\\n')"
   ]
  },
  {
   "cell_type": "code",
   "execution_count": 13,
   "metadata": {},
   "outputs": [
    {
     "data": {
      "text/plain": [
       "1"
      ]
     },
     "execution_count": 13,
     "metadata": {},
     "output_type": "execute_result"
    }
   ],
   "source": [
    "len(topics)"
   ]
  },
  {
   "cell_type": "code",
   "execution_count": null,
   "metadata": {},
   "outputs": [],
   "source": []
  }
 ],
 "metadata": {
  "kernelspec": {
   "display_name": "Python 3",
   "language": "python",
   "name": "python3"
  },
  "language_info": {
   "codemirror_mode": {
    "name": "ipython",
    "version": 3
   },
   "file_extension": ".py",
   "mimetype": "text/x-python",
   "name": "python",
   "nbconvert_exporter": "python",
   "pygments_lexer": "ipython3",
   "version": "3.7.5"
  },
  "varInspector": {
   "cols": {
    "lenName": 16,
    "lenType": 16,
    "lenVar": 40
   },
   "kernels_config": {
    "python": {
     "delete_cmd_postfix": "",
     "delete_cmd_prefix": "del ",
     "library": "var_list.py",
     "varRefreshCmd": "print(var_dic_list())"
    },
    "r": {
     "delete_cmd_postfix": ") ",
     "delete_cmd_prefix": "rm(",
     "library": "var_list.r",
     "varRefreshCmd": "cat(var_dic_list()) "
    }
   },
   "types_to_exclude": [
    "module",
    "function",
    "builtin_function_or_method",
    "instance",
    "_Feature"
   ],
   "window_display": false
  }
 },
 "nbformat": 4,
 "nbformat_minor": 4
}
